{
 "cells": [
  {
   "cell_type": "code",
   "execution_count": 4,
   "metadata": {
    "collapsed": false
   },
   "outputs": [],
   "source": [
    "# http://stackoverflow.com/questions/18625085/how-to-plot-a-wav-file\n",
    "# scipy.io.wavfile.write(filename, rate, data)[source]\n",
    "# 3:01:29 runtime = 10889 seconds\n",
    "# numframes = 174 229 537\n",
    "# fps: 16000\n",
    "# 1980 = start of sound\n",
    "\n",
    "\n",
    "%matplotlib inline\n",
    "\n",
    "import matplotlib.pyplot as plt\n",
    "import scipy.io.wavfile as wave\n",
    "import numpy as np\n",
    "\n",
    "#load data, set lengths\n",
    "track = wave.read('song.wav')\n",
    "data = track[1]\n",
    "#data_start = 2000\n",
    "#data_end = -150000\n",
    "#audio = raw[data_start:data_end]\n",
    "num_frames = len(data)\n",
    "zero = 1980\n",
    "sec = 16000\n",
    "minute = sec*60\n"
   ]
  },
  {
   "cell_type": "code",
   "execution_count": 5,
   "metadata": {
    "collapsed": false
   },
   "outputs": [
    {
     "name": "stdout",
     "output_type": "stream",
     "text": [
      "(871, 50, 4000)\n",
      "(871, 50, 4000)\n"
     ]
    }
   ],
   "source": [
    "#segment = raw[-130000:]\n",
    "#num_frames\n",
    "\n",
    "def rescale(unscaled_x, min_allowed, max_allowed, data_min, data_max):\n",
    "    return (max_allowed-min_allowed)*(unscaled_x-data_min)/(data_max-data_min) + min_allowed\n",
    "data_mean = np.mean(data)\n",
    "data_min = np.min(data)\n",
    "data_max = np.max(data)\n",
    "data = rescale(data-data_mean, -1, 1, data_min, data_max)\n",
    "\n",
    "frame_length = 4000\n",
    "seq_length = 50\n",
    "example_length = frame_length * seq_length\n",
    "\n",
    "if len(data) % example_length < frame_length:\n",
    "    data = data[:-example_length+frame_length]\n",
    "else:\n",
    "    data = data[: -(len(data)%example_length-frame_length)]\n",
    "if not len(data)%example_length == frame_length:\n",
    "    print \"problem!\"\n",
    "    \n",
    "num_examples = len(data) // example_length\n",
    "chars = data.reshape(len(data)/frame_length, frame_length) #list(set(data))\n",
    "vocab_size = len(chars)\n",
    "input_array = data[:-frame_length].reshape(num_examples,seq_length,frame_length) \n",
    "target_array = data[frame_length:].reshape(num_examples,seq_length,frame_length)\n",
    "print input_array.shape\n",
    "print target_array.shape\n",
    "\n",
    "#plt.plot(raw, color='olive')\n",
    "#plt.savefig('songwav')"
   ]
  },
  {
   "cell_type": "code",
   "execution_count": 7,
   "metadata": {
    "collapsed": false
   },
   "outputs": [
    {
     "data": {
      "image/png": "[encoded data removed]",
      "text/plain": [
       "<matplotlib.figure.Figure at 0x7fc5cc24bb50>"
      ]
     },
     "metadata": {},
     "output_type": "display_data"
    }
   ],
   "source": [
    "frame = input_array[20].flatten()\n",
    "plt.plot(frame, color='olive')\n",
    "plt.savefig('frame_20_20.png')\n",
    "from scipy.io.wavfile import write as write_wav\n",
    "write_wav(filename='frame_20_20.wav', rate=16000, data=frame)\n"
   ]
  },
  {
   "cell_type": "code",
   "execution_count": null,
   "metadata": {
    "collapsed": false
   },
   "outputs": [],
   "source": [
    "segment = raw[0:1000]\n",
    "\n",
    "block_length = sec\n",
    "sec_blocks = [segment[i:i+sec] for i in range(num_frames)]\n",
    "mean_sec_blocks =[np.mean(block) for block in sec_blocks]\n",
    "\n",
    "loop_blocks = [mean_sec_blocks[i:i+143] for i in range(76)]\n",
    "mean_loop_blocks = [np.mean(block) for block in loop_blocks]\n",
    "\n",
    "plt.plot(mean_loop_blocks[0:5], color='olive')\n",
    "#plt.savefig('meansecblocksALLsecs.png')\n"
   ]
  },
  {
   "cell_type": "code",
   "execution_count": 26,
   "metadata": {
    "collapsed": false
   },
   "outputs": [
    {
     "name": "stdout",
     "output_type": "stream",
     "text": [
      "0.1685\n",
      "0.1685\n",
      "3893\n",
      "-4327\n",
      "9124\n",
      "-8936\n",
      "3.85925\n",
      "-2.628625\n"
     ]
    }
   ],
   "source": [
    "print mean_sec_blocks[0]\n",
    "print np.mean(raw[0:16000])\n",
    "print np.max(raw[0:16000])\n",
    "print np.min(raw[0:16000])\n",
    "print np.max(raw)\n",
    "print np.min(raw)\n",
    "print np.max(mean_sec_blocks)\n",
    "print np.min(mean_sec_blocks)\n"
   ]
  },
  {
   "cell_type": "code",
   "execution_count": 4,
   "metadata": {
    "collapsed": false
   },
   "outputs": [
    {
     "data": {
      "text/plain": [
       "5333"
      ]
     },
     "execution_count": 4,
     "metadata": {},
     "output_type": "execute_result"
    }
   ],
   "source": [
    "track[0]/3"
   ]
  },
  {
   "cell_type": "code",
   "execution_count": 1,
   "metadata": {
    "collapsed": false
   },
   "outputs": [
    {
     "ename": "NameError",
     "evalue": "name 'frame' is not defined",
     "output_type": "error",
     "traceback": [
      "\u001b[1;31m---------------------------------------------------------------------------\u001b[0m",
      "\u001b[1;31mNameError\u001b[0m                                 Traceback (most recent call last)",
      "\u001b[1;32m<ipython-input-1-c742d3467b2f>\u001b[0m in \u001b[0;36m<module>\u001b[1;34m()\u001b[0m\n\u001b[0;32m      5\u001b[0m \u001b[1;31m#replace_with_mean = [int(mean_sec_blocks[(i/sec)%sec]) for i in range(num_frames)]\u001b[0m\u001b[1;33m\u001b[0m\u001b[1;33m\u001b[0m\u001b[0m\n\u001b[0;32m      6\u001b[0m \u001b[1;31m#replace_with_mean =np.array(replace_with_mean)\u001b[0m\u001b[1;33m\u001b[0m\u001b[1;33m\u001b[0m\u001b[0m\n\u001b[1;32m----> 7\u001b[1;33m \u001b[0mwrite_wav\u001b[0m\u001b[1;33m(\u001b[0m\u001b[0mfilename\u001b[0m\u001b[1;33m=\u001b[0m\u001b[1;34m'frame_20_20.wav'\u001b[0m\u001b[1;33m,\u001b[0m \u001b[0mrate\u001b[0m\u001b[1;33m=\u001b[0m\u001b[1;36m16000\u001b[0m\u001b[1;33m,\u001b[0m \u001b[0mdata\u001b[0m\u001b[1;33m=\u001b[0m\u001b[0mframe\u001b[0m\u001b[1;33m)\u001b[0m\u001b[1;33m\u001b[0m\u001b[0m\n\u001b[0m",
      "\u001b[1;31mNameError\u001b[0m: name 'frame' is not defined"
     ]
    }
   ],
   "source": [
    "from scipy.io.wavfile import write as write_wav\n",
    "#np.dtype.kind(raw)\n",
    "#dtype.kind(mean_sec_blocks)\n",
    "# scipy.io.wavfile.write(filename, rate, data)\n",
    "#replace_with_mean = [int(mean_sec_blocks[(i/sec)%sec]) for i in range(num_frames)]\n",
    "#replace_with_mean =np.array(replace_with_mean)\n",
    "write_wav(filename='frame_20_20.wav', rate=16000, data=frame)"
   ]
  },
  {
   "cell_type": "code",
   "execution_count": 155,
   "metadata": {
    "collapsed": false
   },
   "outputs": [
    {
     "data": {
      "image/png": "[encoded data removed]",
      "text/plain": [
       "<matplotlib.figure.Figure at 0x7facc58db8d0>"
      ]
     },
     "metadata": {},
     "output_type": "display_data"
    }
   ],
   "source": [
    "segment = raw[-20*minute:-19*minute]\n",
    "\n",
    "plt.plot(segment, color='olive')\n",
    "plt.savefig('twentieth_minute_before_end.png')"
   ]
  },
  {
   "cell_type": "code",
   "execution_count": 7,
   "metadata": {
    "collapsed": false
   },
   "outputs": [
    {
     "data": {
      "text/plain": [
       "array([0, 0, 0, 0, 0, 0, 0, 0, 0, 0, 0, 0, 0, 0, 0, 0, 0, 0, 0, 0, 0, 0, 0,\n",
       "       0, 0, 0, 0, 0, 0, 0, 0, 0, 0, 0, 0, 0, 0, 0, 0, 0, 0, 0, 0, 0, 0, 0,\n",
       "       0, 0, 0, 0, 0, 0, 0, 0, 0, 0, 0, 0, 0, 0, 0, 0, 0, 0, 0, 0, 0, 0, 0,\n",
       "       0, 0, 0, 0, 0, 0, 0, 0, 0, 0, 0, 0, 0, 0, 0, 0, 0, 0, 0, 0, 0, 0, 0,\n",
       "       0, 0, 0, 0, 0, 0, 0, 0, 0, 0, 0, 0, 0, 0, 0, 0, 0, 0, 0, 0, 0, 0, 0,\n",
       "       0, 0, 0, 0, 0, 0, 0, 0, 0, 0, 0, 0, 0, 0, 0, 0, 0, 0, 0, 0, 0, 0, 0,\n",
       "       0, 0, 0, 0, 0, 0, 0, 0, 0, 0, 0, 0, 0, 0, 0, 0, 0, 0, 0, 0, 0, 0, 0,\n",
       "       0, 0, 0, 0, 0, 0, 0, 0, 0, 0, 0, 0, 0, 0, 0, 0, 0, 0, 0, 0, 0, 0, 0,\n",
       "       0, 0, 0, 0, 0, 0, 0, 0, 0, 0, 0, 0, 0, 0, 0, 0, 0, 0, 0, 0, 0, 0, 0,\n",
       "       0, 0, 0, 0, 0, 0, 0, 0, 0, 0, 0, 0, 0, 0, 0, 0, 0, 0, 0, 0, 0, 0, 0,\n",
       "       0, 0, 0, 0, 0, 0, 0, 0, 0, 0, 0, 0, 0, 0, 0, 0, 0, 0, 0, 0, 0, 0, 0,\n",
       "       0, 0, 0, 0, 0, 0, 0, 0, 0, 0, 0, 0, 0, 0, 0, 0, 0, 0, 0, 0, 0, 0, 0,\n",
       "       0, 0, 0, 0, 0, 0, 0, 0, 0, 0, 0, 0, 0, 0, 0, 0, 0, 0, 0, 0, 0, 0, 0,\n",
       "       0, 0, 0, 0, 0, 0, 0, 0, 0, 0, 0, 0, 0, 0, 0, 0, 0, 0, 0, 0, 0, 0, 0,\n",
       "       0, 0, 0, 0, 0, 0, 0, 0, 0, 0, 0, 0, 0, 0, 0, 0, 0, 0, 0, 0, 0, 0, 0,\n",
       "       0, 0, 0, 0, 0, 0, 0, 0, 0, 0, 0, 0, 0, 0, 0, 0, 0, 0, 0, 0, 0, 0, 0,\n",
       "       0, 0, 0, 0, 0, 0, 0, 0, 0, 0, 0, 0, 0, 0, 0, 0, 0, 0, 0, 0, 0, 0, 0,\n",
       "       0, 0, 0, 0, 0, 0, 0, 0, 0, 0, 0, 0, 0, 0, 0, 0, 0, 0, 0, 0, 0, 0, 0,\n",
       "       0, 0, 0, 0, 0, 0, 0, 0, 0, 0, 0, 0, 0, 0, 0, 0, 0, 0, 0, 0, 0, 0, 0,\n",
       "       0, 0, 0, 0, 0, 0, 0, 0, 0, 0, 0, 0, 0, 0, 0, 0, 0, 0, 0, 0, 0, 0, 0,\n",
       "       0, 0, 0, 0, 0, 0, 0, 0, 0, 0, 0, 0, 0, 0, 0, 0, 0, 0, 0, 0, 0, 0, 0,\n",
       "       0, 0, 0, 0, 0, 0, 0, 0, 0, 0, 0, 0, 0, 0, 0, 0])"
      ]
     },
     "execution_count": 7,
     "metadata": {},
     "output_type": "execute_result"
    }
   ],
   "source": [
    "replace_with_mean[1:500]"
   ]
  },
  {
   "cell_type": "code",
   "execution_count": 135,
   "metadata": {
    "collapsed": false
   },
   "outputs": [
    {
     "data": {
      "image/png": "[encoded data removed]",
      "text/plain": [
       "<matplotlib.figure.Figure at 0x7facc5e674d0>"
      ]
     },
     "metadata": {},
     "output_type": "display_data"
    }
   ],
   "source": [
    "segment = raw[-minute:-1]\n",
    "\n",
    "plt.plot(segment, color='olive')\n",
    "plt.savefig('last_minute.png')"
   ]
  },
  {
   "cell_type": "code",
   "execution_count": 36,
   "metadata": {
    "collapsed": false
   },
   "outputs": [
    {
     "data": {
      "text/plain": [
       "array([ 0,  2,  4,  6,  8, 10, 12, 14])"
      ]
     },
     "execution_count": 36,
     "metadata": {},
     "output_type": "execute_result"
    }
   ],
   "source": [
    "import numpy as np\n",
    "x = np.arange(20)\n",
    "y = x[0:15:2]\n",
    "y"
   ]
  },
  {
   "cell_type": "code",
   "execution_count": 133,
   "metadata": {
    "collapsed": false
   },
   "outputs": [
    {
     "data": {
      "text/plain": [
       "5039133"
      ]
     },
     "execution_count": 133,
     "metadata": {},
     "output_type": "execute_result"
    }
   ],
   "source": [
    "np.count_nonzero(raw[minute:6000000])"
   ]
  },
  {
   "cell_type": "code",
   "execution_count": 162,
   "metadata": {
    "collapsed": false
   },
   "outputs": [
    {
     "data": {
      "text/plain": [
       "2"
      ]
     },
     "execution_count": 162,
     "metadata": {},
     "output_type": "execute_result"
    }
   ],
   "source": [
    "(32000/16000)%16000"
   ]
  },
  {
   "cell_type": "code",
   "execution_count": null,
   "metadata": {
    "collapsed": true
   },
   "outputs": [],
   "source": [
    "#* maximize pointwise mutual information"
   ]
  }
 ],
 "metadata": {
  "kernelspec": {
   "display_name": "Python 2",
   "language": "python",
   "name": "python2"
  },
  "language_info": {
   "codemirror_mode": {
    "name": "ipython",
    "version": 2
   },
   "file_extension": ".py",
   "mimetype": "text/x-python",
   "name": "python",
   "nbconvert_exporter": "python",
   "pygments_lexer": "ipython2",
   "version": "2.7.11"
  }
 },
 "nbformat": 4,
 "nbformat_minor": 0
}
