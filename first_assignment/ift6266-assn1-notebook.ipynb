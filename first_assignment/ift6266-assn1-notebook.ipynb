{
 "cells": [
  {
   "cell_type": "markdown",
   "metadata": {},
   "source": [
    " # The task: #\n",
    " \n",
    " [(Full assignment description here)](https://ift6266h16.wordpress.com/2016/01/11/first-assignment-mlp-on-mnist/)\n",
    " \n",
    " Implement a one-hidden-layer MLP and train it on MNIST using Python and Numpy."
   ]
  },
  {
   "cell_type": "markdown",
   "metadata": {},
   "source": [
    "## Basics ##\n",
    "\n",
    "I find diagrams really helpful to keep the dimensions of everything straight. This is a typical one-hidden-layer network:\n",
    "\n",
    "![One-hidden-layer MLP](http://docs.opencv.org/2.4/_images/mlp.png)\n",
    "\n",
    "And this is kind of a functional diagram of the network described in the assignment. [Chris Beckham](https://github.com/christopher-beckham/ift6266h16) started doing something like this and I found it really helpful for making the connection between the loss derivitives we'll do \"on paper\" and the actual matrices and functions we'll code later. \n",
    "\n",
    "![One-hidden-layer MLP matrices](one-hidden-layer-mlp-matrices.png)\n",
    "\n",
    "Where:\n",
    "\n",
    "*Input layer:*  \n",
    ">**x** is the n by p input vector\n",
    "\n",
    "*Hidden layer*  \n",
    ">**W** is the m by n weight matrix  \n",
    "**b** is the m by p bias vector  \n",
    "**h'** = **Wx**+**b** is the m by p vector of preactivations  \n",
    "**h** = f(**h'**) is the m by p vector of activations \n",
    "f is the activation function (often $\\sigma$, the sigmoid, or tanh)\n",
    "\n",
    "*Output layer*  \n",
    ">**V** is the q by m weight matrix  \n",
    "**c** is the m by p bias vector  \n",
    "**y'** = **Vh**+**c**  is the q by p vector of preactivations \n",
    "**y** = s(**h'**) is the q by p vector of activations\n",
    "s is the activation function (often softmax)\n",
    "\n",
    "And:\n",
    "> n is the number of input units  \n",
    "p is usually 1, i.e. the input is a vector not a matrix  \n",
    "m is the number of hidden units\n",
    "q is the number of output units  \n",
    "Bold denotes vectors/matrices  \n",
    "**h'** and **y'**, the preactivations, are often denoted **z**  \n",
    "**h** and **y**, the activations, are often denoted **a** or **o**  \n"
   ]
  },
  {
   "cell_type": "code",
   "execution_count": null,
   "metadata": {
    "collapsed": true
   },
   "outputs": [],
   "source": []
  },
  {
   "cell_type": "code",
   "execution_count": null,
   "metadata": {
    "collapsed": true
   },
   "outputs": [],
   "source": []
  }
 ],
 "metadata": {
  "kernelspec": {
   "display_name": "Python 2",
   "language": "python",
   "name": "python2"
  },
  "language_info": {
   "codemirror_mode": {
    "name": "ipython",
    "version": 2
   },
   "file_extension": ".py",
   "mimetype": "text/x-python",
   "name": "python",
   "nbconvert_exporter": "python",
   "pygments_lexer": "ipython2",
   "version": "2.7.10"
  }
 },
 "nbformat": 4,
 "nbformat_minor": 0
}
